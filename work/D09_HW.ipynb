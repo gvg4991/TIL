{
 "cells": [
  {
   "cell_type": "code",
   "execution_count": null,
   "metadata": {},
   "outputs": [],
   "source": [
    "# 1. HTML 은무엇의 약자인가? [    ] \n",
    "# (1) Hyperlinks and Text Markup Language \n",
    "# (2) HomeTool Markup Language \n",
    "print((3) HyperText Markup Language) \n",
    "# (4) HyperTool Markup Language"
   ]
  },
  {
   "cell_type": "code",
   "execution_count": null,
   "metadata": {},
   "outputs": [],
   "source": [
    "# 2. 다음중맞으면 T, 틀리면 F 를기입 하시오.\n",
    "# 〮웹표준을 만드는 곳은 Mozilla 재단이다. [     ]\n",
    "# F!, www이다.\n",
    "# 〮표(table) 을만들 때에는 반드시 <th> 태그를 사용해야 한다. [     ]\n",
    "# F! table head의 부분으로 반듯이 넣어야 하는것은 아님\n",
    "# 〮제목(Heading) 태그는 제목 이외에는 사용하지 않는 것이 좋다. [     ]\n",
    "# T! 시맨틱태그로 컨탠츠가 제목이라는 것을 알려줌\n",
    "# 〮인용문을 가리키는 태그는 <blockquote> 이다. [     ]\n",
    "# T! blockquote로 인용문을 넣을 수 있다"
   ]
  },
  {
   "cell_type": "code",
   "execution_count": null,
   "metadata": {},
   "outputs": [],
   "source": [
    "# 3. 보기중콘텐츠의 의미를 명확히 하기 위해 HTML5 에서 새롭게 추가된 시맨틱(semantic) 태그를 모두 선택 하시오. \n",
    "# [ article, div, footer, nav, head, container ]\n",
    "print(article, footer, nav)"
   ]
  },
  {
   "cell_type": "code",
   "execution_count": null,
   "metadata": {},
   "outputs": [],
   "source": [
    "# 4. 아래이미지와 같은 로그인 화면을 생성하는 html 코드를 작성하시오.\n",
    "# <form>\n",
    "# \tID: <input type=\"text\">\n",
    "# \tPWD: <input type=\"password\">\n",
    "# \t<input type=\"submit\" value=\"로그인\">\n",
    "# </form>"
   ]
  }
 ],
 "metadata": {
  "kernelspec": {
   "display_name": "Python 3",
   "language": "python",
   "name": "python3"
  },
  "language_info": {
   "codemirror_mode": {
    "name": "ipython",
    "version": 3
   },
   "file_extension": ".py",
   "mimetype": "text/x-python",
   "name": "python",
   "nbconvert_exporter": "python",
   "pygments_lexer": "ipython3",
   "version": "3.7.1"
  }
 },
 "nbformat": 4,
 "nbformat_minor": 2
}
