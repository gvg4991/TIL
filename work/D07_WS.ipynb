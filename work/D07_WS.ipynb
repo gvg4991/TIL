{
 "cells": [
  {
   "cell_type": "code",
   "execution_count": 12,
   "metadata": {},
   "outputs": [],
   "source": [
    "class Circle():\n",
    "    pi=3.14\n",
    "    x=0\n",
    "    y=0\n",
    "    r=0\n",
    "    \n",
    "    def area(self):\n",
    "        return self.pi*self.r*self.r\n",
    "    def circumference(self):\n",
    "        return 2*self.pi*self.r\n",
    "    def center(self):\n",
    "        return (self.x, self.y)\n",
    "    def move(self,x,y):\n",
    "        self.x=x\n",
    "        self.y=y"
   ]
  },
  {
   "cell_type": "code",
   "execution_count": 23,
   "metadata": {},
   "outputs": [
    {
     "name": "stdout",
     "output_type": "stream",
     "text": [
      "\"o\"\n",
      "2\n",
      "4\n",
      "3\n",
      "\n",
      "\"O\"\n",
      "1\n",
      "5\n",
      "4\n"
     ]
    }
   ],
   "source": [
    "o=Circle()\n",
    "o.move(2,4)\n",
    "#o.x=2\n",
    "#o.y=4\n",
    "o.r=3\n",
    "print('\"o\"')\n",
    "print(o.x)\n",
    "print(o.y)\n",
    "print(o.r)\n",
    "\n",
    "O=Circle()\n",
    "O.move(1,5)\n",
    "O.r=4\n",
    "print('\\n\"O\"')\n",
    "print(O.x)\n",
    "print(O.y)\n",
    "print(O.r)"
   ]
  },
  {
   "cell_type": "code",
   "execution_count": 24,
   "metadata": {},
   "outputs": [
    {
     "name": "stdout",
     "output_type": "stream",
     "text": [
      "\"o\"\n",
      "28.259999999999998\n",
      "18.84\n",
      "(2, 4)\n",
      "\n",
      "\"O\"\n",
      "50.24\n",
      "25.12\n",
      "(1, 5)\n"
     ]
    }
   ],
   "source": [
    "print('\"o\"')\n",
    "print(o.area())\n",
    "print(o.circumference())\n",
    "print(o.center())\n",
    "\n",
    "print('\\n\"O\"')\n",
    "print(O.area())\n",
    "print(O.circumference())\n",
    "print(O.center())"
   ]
  }
 ],
 "metadata": {
  "kernelspec": {
   "display_name": "Python 3",
   "language": "python",
   "name": "python3"
  },
  "language_info": {
   "codemirror_mode": {
    "name": "ipython",
    "version": 3
   },
   "file_extension": ".py",
   "mimetype": "text/x-python",
   "name": "python",
   "nbconvert_exporter": "python",
   "pygments_lexer": "ipython3",
   "version": "3.7.1"
  }
 },
 "nbformat": 4,
 "nbformat_minor": 2
}
