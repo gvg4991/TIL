{
 "cells": [
  {
   "cell_type": "code",
   "execution_count": 1,
   "metadata": {},
   "outputs": [
    {
     "name": "stdout",
     "output_type": "stream",
     "text": [
      "<button type=\"button\" class=\"btn btn-danger\">Danger</button>\n"
     ]
    }
   ],
   "source": [
    "# 1. 다음은 부트스트랩의 어떤 component 이며 아래와 같이 만들려면 어떤 class 를주어야 하는가.\n",
    "\n",
    "print('<button type=\"button\" class=\"btn btn-danger\">Danger</button>')"
   ]
  },
  {
   "cell_type": "code",
   "execution_count": 2,
   "metadata": {},
   "outputs": [
    {
     "name": "stdout",
     "output_type": "stream",
     "text": [
      "<div class=\"alert alert-info\" role=\"alert\">\n",
      "  Hello SSAFY ?!\n",
      "</div>\n"
     ]
    }
   ],
   "source": [
    "# 2. 다음은 부트스트랩의 어떤 component 이며 아래와 동일하게 만들어 보시오. \n",
    "\n",
    "print('''<div class=\"alert alert-info\" role=\"alert\">\n",
    "  Hello SSAFY ?!\n",
    "</div>''')"
   ]
  },
  {
   "cell_type": "code",
   "execution_count": 3,
   "metadata": {},
   "outputs": [
    {
     "name": "stdout",
     "output_type": "stream",
     "text": [
      " “부트스트랩 그리드 시스템은 레이아웃을 (  12  ) 개의 column 으로, \n",
      " (     ) 개의 반응형 사이즈 조건을 사용하여 구축한다.”\n"
     ]
    }
   ],
   "source": [
    "# 3. 다음빈칸을 채우시오.\n",
    "print(''' “부트스트랩 그리드 시스템은 레이아웃을 (  12  ) 개의 column 으로, \n",
    " (     ) 개의 반응형 사이즈 조건을 사용하여 구축한다.”''')\n"
   ]
  },
  {
   "cell_type": "code",
   "execution_count": 4,
   "metadata": {},
   "outputs": [
    {
     "name": "stdout",
     "output_type": "stream",
     "text": [
      "\n",
      "<head>\n",
      "    <style>\n",
      "        div {\n",
      "            border: solid 1px black;\n",
      "        }\n",
      "        .row {\n",
      "            background-color: moccasin;\n",
      "        }\n",
      "    </style>\n",
      "</head>\n",
      "    \n",
      "<body>\n",
      "    <div class=\"row\">\n",
      "        <div class=\"col-3 border border-danger\">25%</div>\n",
      "        <div class=\"col-6 border border-danger\">50%</div>\n",
      "        <div class=\"col-3 border border-danger\">25%</div>\n",
      "    </div>\n",
      "</body>\n",
      "\n"
     ]
    }
   ],
   "source": [
    "# 4. 아래와 같은 분할을 grid system 을활용하여 만들어 보시오.\n",
    "print('''\n",
    "<head>\n",
    "    <style>\n",
    "        div {\n",
    "            border: solid 1px black;\n",
    "        }\n",
    "        .row {\n",
    "            background-color: moccasin;\n",
    "        }\n",
    "    </style>\n",
    "</head>\n",
    "    \n",
    "<body>\n",
    "    <div class=\"row\">\n",
    "        <div class=\"col-3 border border-danger\">25%</div>\n",
    "        <div class=\"col-6 border border-danger\">50%</div>\n",
    "        <div class=\"col-3 border border-danger\">25%</div>\n",
    "    </div>\n",
    "</body>\n",
    "''')"
   ]
  }
 ],
 "metadata": {
  "kernelspec": {
   "display_name": "Python 3",
   "language": "python",
   "name": "python3"
  },
  "language_info": {
   "codemirror_mode": {
    "name": "ipython",
    "version": 3
   },
   "file_extension": ".py",
   "mimetype": "text/x-python",
   "name": "python",
   "nbconvert_exporter": "python",
   "pygments_lexer": "ipython3",
   "version": "3.7.1"
  }
 },
 "nbformat": 4,
 "nbformat_minor": 2
}
