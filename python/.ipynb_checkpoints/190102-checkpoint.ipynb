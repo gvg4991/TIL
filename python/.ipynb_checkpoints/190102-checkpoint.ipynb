{
 "cells": [
  {
   "cell_type": "code",
   "execution_count": 2,
   "metadata": {},
   "outputs": [
    {
     "name": "stdout",
     "output_type": "stream",
     "text": [
      "*****\n",
      "*****\n",
      "*****\n",
      "*****\n",
      "*****\n",
      "*****\n",
      "*****\n",
      "*****\n",
      "*****\n",
      "\n"
     ]
    }
   ],
   "source": [
    "#두 개의 정수 n과 m이 주어집니다. 반복문을 사용하지 않고 별(*) 문자를 이용해 가로 의 길이가 n, 세로의 길이가 m인 직사각형 형태를 출력해보세요.\n",
    "\n",
    "n=5\n",
    "m=9\n",
    "\n",
    "a='*'*n+'\\n' #+'\\n'으로 열바꿈 추가 (+를 넣는것이 중요!)\n",
    "print(a*m)\n"
   ]
  },
  {
   "cell_type": "code",
   "execution_count": 10,
   "metadata": {},
   "outputs": [
    {
     "name": "stdout",
     "output_type": "stream",
     "text": [
      "87.75\n",
      "83\n"
     ]
    }
   ],
   "source": [
    "#다음 딕셔너리에서 평균 점수를 출력하시오.\n",
    "\n",
    "\n",
    "student = {'python':80, 'algorithm':99, 'django':89, 'flask':83}\n",
    "\n",
    "x=student.values()\n",
    "print(sum(x)/len(x))\n",
    "\n",
    "print(student['flask'])\n",
    "\n",
    "# print(len(student)) = 4"
   ]
  },
  {
   "cell_type": "code",
   "execution_count": 37,
   "metadata": {},
   "outputs": [
    {
     "name": "stdout",
     "output_type": "stream",
     "text": [
      "{'A': 3, 'B': 3, 'AB': 3, 'O': 3}\n"
     ]
    }
   ],
   "source": [
    "#다음은 학생들의 혈액형(A, B, AB, O)에 대한 데이터이다. for문을 이용하여 각 혈액형 별 학생수의 합계를 구하시오.\n",
    "\n",
    "\n",
    "blood_types = ['A','B','A','O','AB','AB','O','A','B','O','B','AB']\n",
    "\n",
    "a=0\n",
    "b=0\n",
    "ab=0\n",
    "o=0\n",
    "for bt in blood_types:\n",
    "    if bt==\"A\":\n",
    "        a+=1\n",
    "    elif bt==\"B\":\n",
    "        b+=1\n",
    "    elif bt==\"AB\":\n",
    "        ab+=1\n",
    "    else:\n",
    "        o+=1\n",
    "total={'A':a,'B':b,'AB':ab,'O':o}\n",
    "print(total)"
   ]
  },
  {
   "cell_type": "code",
   "execution_count": 52,
   "metadata": {},
   "outputs": [
    {
     "name": "stdout",
     "output_type": "stream",
     "text": [
      "A: 3\n",
      "B: 3\n",
      "AB: 3\n",
      "O: 3\n"
     ]
    }
   ],
   "source": [
    "print('A:',blood_types.count('A'))\n",
    "print('B:',blood_types.count('B'))\n",
    "print('AB:',blood_types.count('AB'))\n",
    "print('O:',blood_types.count('O'))"
   ]
  },
  {
   "cell_type": "code",
   "execution_count": 53,
   "metadata": {},
   "outputs": [
    {
     "name": "stdout",
     "output_type": "stream",
     "text": [
      "{'A': 3, 'B': 3, 'O': 3, 'AB': 3}\n"
     ]
    }
   ],
   "source": [
    "result = {} #result를 빈 딕셔너리로 지정!!\n",
    "for b_t in blood_types:\n",
    "    if b_t in result:\n",
    "        result[b_t] += 1 #b_t가 result안에 있으면 value값에 1추가\n",
    "    else:\n",
    "        result[b_t] = 1 #b_t가 result안에 없으면 value값은 1 생성\n",
    "print(result)"
   ]
  }
 ],
 "metadata": {
  "kernelspec": {
   "display_name": "Python 3",
   "language": "python",
   "name": "python3"
  },
  "language_info": {
   "codemirror_mode": {
    "name": "ipython",
    "version": 3
   },
   "file_extension": ".py",
   "mimetype": "text/x-python",
   "name": "python",
   "nbconvert_exporter": "python",
   "pygments_lexer": "ipython3",
   "version": "3.7.2"
  }
 },
 "nbformat": 4,
 "nbformat_minor": 2
}
