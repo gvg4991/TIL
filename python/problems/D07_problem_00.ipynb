{
 "cells": [
  {
   "cell_type": "markdown",
   "metadata": {},
   "source": [
    "# 문자열 계산하기\n",
    "\n",
    "> 아래와 같이 문자열이 주어졌을 때, 바보같은 사용자를 위해 계산을 해주려고 한다.\n",
    ">\n",
    "> 이 계산기는 더하기와 빼기밖에 못한다.\n",
    ">\n",
    "> `calc(equation)`을 만들어봅시다.\n",
    "\n",
    "---\n",
    "\n",
    "예시)\n",
    "\n",
    "```python\n",
    "calc('123+2-124') #=> 1\n",
    "calc('-12+12-7979+9191') #=> 1212\n",
    "calc('+1-1+1-1+1-1+1-1+1-1+1-1+1-1+1-1+1-1+1-1+1-1+1-1+1-1+1-1+1-1+1-1') #=> 0\n",
    "```"
   ]
  },
  {
   "cell_type": "code",
   "execution_count": 1,
   "metadata": {},
   "outputs": [],
   "source": [
    "# 여기에 코드를 작성하세요\n",
    "#실패한 코딩ㅜㅜ\n",
    "def calc(equation):\n",
    "    pm=[]\n",
    "    for x in equation:\n",
    "        if not x.isdigit():\n",
    "            pm.append(x)\n",
    "            equation = equation.replace(x,' ')\n",
    "            #insert()\n",
    "    print(pm)\n",
    "    print([int(n) for n in equation.split()])\n",
    "\n"
   ]
  },
  {
   "cell_type": "code",
   "execution_count": 3,
   "metadata": {},
   "outputs": [],
   "source": [
    "#종워니\n",
    "def calc(equation):\n",
    "    equation = equation.replace('+',' +')\n",
    "    equation = equation.replace('-',' -')\n",
    "    return sum(list(map(int,equation.split())))"
   ]
  },
  {
   "cell_type": "code",
   "execution_count": 114,
   "metadata": {},
   "outputs": [],
   "source": [
    "#종워니\n",
    "def calc(equation):\n",
    "    return sum(list(map(int,equation.replace('-',' -').replace('+',' +').split())))"
   ]
  },
  {
   "cell_type": "code",
   "execution_count": 5,
   "metadata": {},
   "outputs": [],
   "source": [
    "#강사님\n",
    "def calc(equation):\n",
    "    result=0\n",
    "    tmp='' #'1' '12' '123' '123+' ...\n",
    "    for char in equation:\n",
    "        if tmp != '' and not char.isdecimal(): #+ tmp가 비어있지 않거나 일때\n",
    "            result+=int(tmp) #+전에 쌓여있던 값을 in로 바꿔주고 result에 더해주기\n",
    "            tmp='' #tmp비워주기\n",
    "        tmp+=char #tmp변수에 char을 쌓는다\n",
    "    return result + int(tmp)\n",
    "\n",
    "def calc(equation):\n",
    "    result=equation.replace('+',' +').replace('-',' -')\n",
    "    return sum(map(int,result.split()))\n",
    "        "
   ]
  },
  {
   "cell_type": "code",
   "execution_count": 6,
   "metadata": {},
   "outputs": [
    {
     "name": "stdout",
     "output_type": "stream",
     "text": [
      "1\n",
      "1212\n",
      "0\n"
     ]
    }
   ],
   "source": [
    "# 해당 코드를 통해 올바른 결과가 나오는지 확인하세요.\n",
    "print(calc('123+2-124'))\n",
    "print(calc('-12+12-7979+9191'))\n",
    "print(calc('+1-1+1-1+1-1+1-1+1-1+1-1+1-1+1-1+1-1+1-1+1-1+1-1+1-1+1-1+1-1+1-1'))"
   ]
  },
  {
   "cell_type": "markdown",
   "metadata": {},
   "source": [
    "# 나만의 딕셔너리 생성기\n",
    "\n",
    "> key의 리스트와 value의 리스트로 딕셔너리를 생성하여 return 하는 `create_dict(keys, values)` 함수를 작성하세요.\n",
    ">\n",
    ">만약에 value의 갯수가 key의 갯수보다 부족한 경우, None을 채워 넣어야 합니다. 반대로 key의 갯수가 부족한 경우, 초과하는 value들은 무시해도 됩니다.\n",
    "\n",
    "예시)\n",
    "```python\n",
    "create_dict(['a', 'b', 'c', 'd'], [1, 2, 3]) #=> {'a': 1, 'b': 2, 'c': 3, 'd': None}\n",
    "create_dict(['a', 'b', 'c'], [1, 2, 3, 4]) #=> {'a': 1, 'b': 2, 'c': 3}\n",
    "```"
   ]
  },
  {
   "cell_type": "code",
   "execution_count": 137,
   "metadata": {},
   "outputs": [],
   "source": [
    "# 여기에 코드를 작성하세요.\n",
    "###틀림!!!!\n",
    "def create_dict(keys,values):\n",
    "    dict={}\n",
    "    for i in range(len(keys)):\n",
    "        if values[i]:\n",
    "            dict.update({keys[i]:values[i]})\n",
    "        else:\n",
    "            dict.update({keys[i]:None})\n",
    "    return dict\n"
   ]
  },
  {
   "cell_type": "code",
   "execution_count": 7,
   "metadata": {},
   "outputs": [],
   "source": [
    "#강사님\n",
    "def create_dict(keys,values):\n",
    "    d={}\n",
    "    for i in range(len(keys)):\n",
    "        if i < len(values): #i의 값이 value의 길이보다 작을때\n",
    "            d[keys[i]]=values[i] #dict[]=val값 -> dict에 값 추가\n",
    "        else:\n",
    "            d[keys[i]]=None\n",
    "    return d"
   ]
  },
  {
   "cell_type": "code",
   "execution_count": 161,
   "metadata": {},
   "outputs": [],
   "source": [
    "def create_dict(keys,values): #zip함수 이용!!!!!!!!!!!!!!!!!!!!!!!!!!!!!!!!!!!!!!!!!!!!!!!!!!!!!!!!!!!!!!!!\n",
    "    while len(keys)>len(values): #key의 길이가 value길이보다 클때동안 value에 None값을 추가\n",
    "        values.append(None)\n",
    "    return dict(zip(keys,values)) #인덱스가 같은것끼리 묶어서 반환"
   ]
  },
  {
   "cell_type": "code",
   "execution_count": 8,
   "metadata": {},
   "outputs": [
    {
     "name": "stdout",
     "output_type": "stream",
     "text": [
      "{'a': 1, 'b': 2, 'c': 3, 'd': None}\n",
      "{'a': 1, 'b': 2, 'c': 3}\n"
     ]
    }
   ],
   "source": [
    "# 해당 코드를 통해 올바른 결과가 나오는지 확인하세요.\n",
    "print(create_dict(['a', 'b', 'c', 'd'], [1, 2, 3]))\n",
    "print(create_dict(['a', 'b', 'c'], [1, 2, 3, 4]))"
   ]
  },
  {
   "cell_type": "markdown",
   "metadata": {},
   "source": [
    "# 시험 채점 시스템\n",
    "\n",
    "> 첫 번째 인자는 정답이 들어있는 리스트, 두 번째 인자는 사용자의 답이 들어있는 리스트입니다. 두 리스트는 비어있지 않으며 길이가 같습니다.\n",
    ">\n",
    "> 정답의 경우 +4점, 오답의 경우 -1점, 공백 응답(빈 문자열)의 경우 0점입니다. 만약, 점수가 0보다 작으면 0을 return 합니다.\n",
    ">\n",
    "> 위와 같이 시험 점수를 체크하는 함수 `check_score(real_answers, my_answers)` 을 작성하세요.\n",
    "\n",
    "예시)\n",
    "\n",
    "```python\n",
    "check_score([\"a\", \"a\", \"b\", \"b\"], [\"a\", \"c\", \"b\", \"d\"]) #=> 6\n",
    "check_score([\"a\", \"a\", \"c\", \"b\"], [\"a\", \"a\", \"b\", \"\"]) #=> 7\n",
    "check_score([\"a\", \"a\", \"b\", \"c\"], [\"a\", \"a\", \"b\", \"c\"]) #=> 16\n",
    "check_score([\"b\", \"c\", \"b\", \"a\"], [\"\", \"a\", \"a\", \"c\"]) #=> 0\n",
    "```"
   ]
  },
  {
   "cell_type": "code",
   "execution_count": 141,
   "metadata": {},
   "outputs": [],
   "source": [
    "# 여기에 코드를 작성하세요.\n",
    "def check_score(real_answers, my_answers):\n",
    "    g=0\n",
    "    for i in range(len(real_answers)):\n",
    "        if real_answers[i] == my_answers[i]:\n",
    "            g+=4\n",
    "        elif my_answers[i]=='':\n",
    "            g+=0\n",
    "        else:\n",
    "            g-=1\n",
    "    if g<=0:\n",
    "        g=0\n",
    "    return g\n"
   ]
  },
  {
   "cell_type": "code",
   "execution_count": 9,
   "metadata": {},
   "outputs": [],
   "source": [
    "def check_score(real_answers, my_answers): #아아아.. 모르겠다..ㅠ\n",
    "    return max(0, sum([4 if r == m else -1 for r, m in zip(real_answers, my_answers) if m]))\n",
    "            "
   ]
  },
  {
   "cell_type": "code",
   "execution_count": 10,
   "metadata": {},
   "outputs": [
    {
     "name": "stdout",
     "output_type": "stream",
     "text": [
      "6\n",
      "7\n",
      "16\n",
      "0\n"
     ]
    }
   ],
   "source": [
    "# 해당 코드를 통해 올바른 결과가 나오는지 확인하세요.\n",
    "print(check_score([\"a\", \"a\", \"b\", \"b\"], [\"a\", \"c\", \"b\", \"d\"]))\n",
    "print(check_score([\"a\", \"a\", \"c\", \"b\"], [\"a\", \"a\", \"b\", \"\"]))\n",
    "print(check_score([\"a\", \"a\", \"b\", \"c\"], [\"a\", \"a\", \"b\", \"c\"]))\n",
    "print(check_score([\"b\", \"c\", \"b\", \"a\"], [\"\", \"a\", \"a\", \"c\"]))"
   ]
  },
  {
   "cell_type": "code",
   "execution_count": null,
   "metadata": {},
   "outputs": [],
   "source": []
  }
 ],
 "metadata": {
  "kernelspec": {
   "display_name": "Python 3",
   "language": "python",
   "name": "python3"
  },
  "language_info": {
   "codemirror_mode": {
    "name": "ipython",
    "version": 3
   },
   "file_extension": ".py",
   "mimetype": "text/x-python",
   "name": "python",
   "nbconvert_exporter": "python",
   "pygments_lexer": "ipython3",
   "version": "3.7.2"
  },
  "toc": {
   "base_numbering": 1,
   "nav_menu": {},
   "number_sections": true,
   "sideBar": true,
   "skip_h1_title": false,
   "title_cell": "Table of Contents",
   "title_sidebar": "Contents",
   "toc_cell": false,
   "toc_position": {},
   "toc_section_display": true,
   "toc_window_display": false
  }
 },
 "nbformat": 4,
 "nbformat_minor": 2
}
