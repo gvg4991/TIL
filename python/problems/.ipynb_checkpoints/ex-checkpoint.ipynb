{
 "cells": [
  {
   "cell_type": "code",
   "execution_count": null,
   "metadata": {},
   "outputs": [],
   "source": [
    "'''\n",
    "문제 예시 \n",
    "평가 안내 \n",
    " \n",
    "제공된 파이썬 파일에 작성 이후 폴더 본인 이름으로 변경 후 압축하여 제출합니다. 예) 이름이 홍길동인 경우 홍길동.zip 입니다. 압축을 풀었을 때, 폴더 구조는 아래와 같습니다. 홍길동/ ex.py 예시 문제1. 도형 만들기 \n",
    " \n",
    "파이썬 클래스를 활용하여 꼭지점과 원을 표현하시오.\n",
    "Point 클래스에 대한 명세는 다음과 같습니다. 인스턴스가 생성될 때, 정수 두 개를(좌표 값) 인자로 받아 생성됩니다. 각각 인스턴스 변수명은 x , y 입니다.\n",
    "메소드는 없습니다.\n",
    "Circle 클래스에 대한 명세는 다음과 같습니다. 인스턴스가 생성될 때 원의 중점과 반지름을 인자로 받아 생성됩니다. 인스턴스 변수명은 center와 r 입니다.\n",
    "# 예) 좌표 (3, 5)의 점 p1 = Point(3, 5)\n",
    "메소드명 인자 반환값(return) 비고\n",
    "get_area 없음 면적 면적을 계산하여 반환합니다. (원주율은 3.14)\n",
    "get_perimeter 없음 둘레값 둘레를 계산하여 반환합니다. (원주율은 3.14)\n",
    "get_center 없음 (x, y) tuple : 원의 중점(cener)의 x 값과 y값\n",
    "print 없음 없음 아래의 예시처럼 출력합니다.\n",
    "아래의 예시의 c1은 다음과 같이 구성됩니다.\n",
    "'''"
   ]
  },
  {
   "cell_type": "code",
   "execution_count": 1,
   "metadata": {},
   "outputs": [],
   "source": [
    "class Point():\n",
    "    def __init__(self,x,y):\n",
    "        self.x=x\n",
    "        self.y=y\n",
    "\n",
    "\n",
    "class Circle():\n",
    "    def __init__(self,center,r):\n",
    "        self.center=center\n",
    "        self.r=r\n",
    "\n",
    "    def get_area(self):\n",
    "        return 3.14*self.r**2\n",
    "    \n",
    "    def get_perimeter(self):\n",
    "        return 2*3.14*self.r\n",
    "\n",
    "    def get_center(self):\n",
    "        return f'({self.center.x},{self.center.y})'\n",
    "\n",
    "    def print(self):\n",
    "        print(f'Circle: ({self.center.x},{self.center.y}), r: {self.r}')"
   ]
  },
  {
   "cell_type": "code",
   "execution_count": 2,
   "metadata": {},
   "outputs": [
    {
     "name": "stdout",
     "output_type": "stream",
     "text": [
      "28.26\n",
      "18.84\n",
      "(0,0)\n",
      "Circle: (0,0), r: 3\n",
      "3.14\n",
      "6.28\n",
      "(4,5)\n",
      "Circle: (4,5), r: 1\n"
     ]
    }
   ],
   "source": [
    "p1 = Point(0, 0)\n",
    "c1 = Circle(p1, 3)\n",
    "print(c1.get_area())\n",
    "print(c1.get_perimeter())\n",
    "print(c1.get_center())\n",
    "c1.print()\n",
    "p2 = Point(4, 5)\n",
    "c2 = Circle(p2, 1)\n",
    "print(c2.get_area())\n",
    "print(c2.get_perimeter())\n",
    "print(c2.get_center())\n",
    "c2.print()"
   ]
  }
 ],
 "metadata": {
  "kernelspec": {
   "display_name": "Python 3",
   "language": "python",
   "name": "python3"
  },
  "language_info": {
   "codemirror_mode": {
    "name": "ipython",
    "version": 3
   },
   "file_extension": ".py",
   "mimetype": "text/x-python",
   "name": "python",
   "nbconvert_exporter": "python",
   "pygments_lexer": "ipython3",
   "version": "3.7.1"
  }
 },
 "nbformat": 4,
 "nbformat_minor": 2
}
