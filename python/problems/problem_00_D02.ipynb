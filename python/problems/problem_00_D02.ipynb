{
 "cells": [
  {
   "cell_type": "markdown",
   "metadata": {},
   "source": [
    "# 가상화폐 시세 판단하기"
   ]
  },
  {
   "cell_type": "markdown",
   "metadata": {},
   "source": [
    "> 최고가와 최저가의 차이를 변동폭으로 정의할 때 (시가 + 변동폭)이 최고가 보다 높을 경우 \"상승장\", 그렇지 않은 경우 \"하락장\" 문자열을 출력하라.\n",
    "\n",
    "|Key Name        |     Description|\n",
    "|---|---|\n",
    "|opeing_price    |최근 24시간 내 시작 거래금액|\n",
    "|closing_price   |최근 24시간 내 마지막 거래금액|\n",
    "|min_price       |최근 24시간 내 최저 거래금액|\n",
    "|max_price       |최근 24시간 내 최고 거래금액|"
   ]
  },
  {
   "cell_type": "code",
   "execution_count": 2,
   "metadata": {},
   "outputs": [
    {
     "name": "stdout",
     "output_type": "stream",
     "text": [
      "{'opening_price': '4320000', 'closing_price': '4276000', 'min_price': '4250000', 'max_price': '4339000', 'average_price': '4301014.648', 'units_traded': '18057.68406827', 'volume_1day': '18057.68406827', 'volume_7day': '56224.25563717', 'buy_price': '4276000', 'sell_price': '4277000', '24H_fluctate': '-44000', '24H_fluctate_rate': '-1.01', 'date': '1546568597063'}\n"
     ]
    }
   ],
   "source": [
    "import requests\n",
    "btc = requests.get('https://api.bithumb.com/public/ticker/btc').json()['data']\n",
    "print(btc)"
   ]
  },
  {
   "cell_type": "code",
   "execution_count": 4,
   "metadata": {},
   "outputs": [
    {
     "name": "stdout",
     "output_type": "stream",
     "text": [
      "상승장\n"
     ]
    }
   ],
   "source": [
    "# 아래에 코드를 작성하세요.\n",
    "\n",
    "opening_price = int(btc['opening_price'])\n",
    "max_price = int(btc['max_price'])\n",
    "min_price = int(btc['min_price'])\n",
    "\n",
    "if opening_price + (max_price - min_price) > max_price:\n",
    "    print('상승장')\n",
    "else:\n",
    "    print('하락장')"
   ]
  },
  {
   "cell_type": "markdown",
   "metadata": {},
   "source": [
    "## 모든 가상화폐 시세 판단하기\n",
    "\n",
    "\n",
    "> currrency dictionary에 담겨있는 모든 가상화폐 거래내역을 바탕으로 출력하라.\n",
    ">\n",
    "> 예외 처리에 유의하세요.\n",
    "\n",
    "\n",
    "\n",
    "```\n",
    "예시 출력)\n",
    "BTC 상승장\n",
    "ETH 상승장\n",
    "DASH 상승장\n",
    "LTC 하락장\n",
    "ETC 하락장\n",
    "XRP 상승장\n",
    "BCH 상승장\n",
    "...\n",
    "```\n"
   ]
  },
  {
   "cell_type": "code",
   "execution_count": 6,
   "metadata": {},
   "outputs": [
    {
     "name": "stdout",
     "output_type": "stream",
     "text": [
      "{'BTC': {'opening_price': '4320000', 'closing_price': '4275000', 'min_price': '4250000', 'max_price': '4339000', 'average_price': '4301002.8438', 'units_traded': '18059.05516827', 'volume_1day': '18059.05516827', 'volume_7day': '56224.25563717', 'buy_price': '4275000', 'sell_price': '4277000', '24H_fluctate': '-45000', '24H_fluctate_rate': '-1.04'}, 'ETH': {'opening_price': '170600', 'closing_price': '166800', 'min_price': '163500', 'max_price': '173800', 'average_price': '168123.9744', 'units_traded': '580983.41554891', 'volume_1day': '580983.41554891', 'volume_7day': '1972433.069420816188046675', 'buy_price': '166700', 'sell_price': '166900', '24H_fluctate': '-3800', '24H_fluctate_rate': '-2.22'}, 'DASH': {'opening_price': '93550', 'closing_price': '90550', 'min_price': '88100', 'max_price': '93600', 'average_price': '90708.7243', 'units_traded': '3691182.49693308', 'volume_1day': '3691182.49693308', 'volume_7day': '32148139.18272674', 'buy_price': '90400', 'sell_price': '90700', '24H_fluctate': '-3000', '24H_fluctate_rate': '-3.20'}, 'LTC': {'opening_price': '36600', 'closing_price': '35580', 'min_price': '34940', 'max_price': '36920', 'average_price': '35927.5331', 'units_traded': '11886.61719976', 'volume_1day': '11886.61719976', 'volume_7day': '176033.50952017', 'buy_price': '35580', 'sell_price': '35680', '24H_fluctate': '-1020', '24H_fluctate_rate': '-2.78'}, 'ETC': {'opening_price': '5955', 'closing_price': '5670', 'min_price': '5640', 'max_price': '5995', 'average_price': '5777.5126', 'units_traded': '527126.08199124', 'volume_1day': '527126.08199124', 'volume_7day': '1867450.437014439873039507', 'buy_price': '5670', 'sell_price': '5685', '24H_fluctate': '-285', '24H_fluctate_rate': '-4.78'}, 'XRP': {'opening_price': '411', 'closing_price': '401', 'min_price': '397', 'max_price': '413', 'average_price': '404.015', 'units_traded': '46134176.90289954', 'volume_1day': '46134176.90289954', 'volume_7day': '473735993.35841542', 'buy_price': '400', 'sell_price': '401', '24H_fluctate': '-10', '24H_fluctate_rate': '-2.43'}, 'BCH': {'opening_price': '190700', 'closing_price': '180200', 'min_price': '177300', 'max_price': '191500', 'average_price': '183819.2682', 'units_traded': '46211.73243284', 'volume_1day': '46211.73243284', 'volume_7day': '552880.52661516', 'buy_price': '179800', 'sell_price': '180200', '24H_fluctate': '-10500', '24H_fluctate_rate': '-5.50'}, 'XMR': {'opening_price': '57100', 'closing_price': '55450', 'min_price': '55000', 'max_price': '57500', 'average_price': '55921.8552', 'units_traded': '13472846.66719034', 'volume_1day': '13472846.66719034', 'volume_7day': '68494893.497624596036', 'buy_price': '55300', 'sell_price': '55550', '24H_fluctate': '-1650', '24H_fluctate_rate': '-2.88'}, 'ZEC': {'opening_price': '67100', 'closing_price': '64700', 'min_price': '64150', 'max_price': '67350', 'average_price': '65696.7023', 'units_traded': '36071.50344304', 'volume_1day': '36071.50344304', 'volume_7day': '33445009.22462229', 'buy_price': '64750', 'sell_price': '65000', '24H_fluctate': '-2400', '24H_fluctate_rate': '-3.57'}, 'QTUM': {'opening_price': '2566', 'closing_price': '2477', 'min_price': '2449', 'max_price': '2567', 'average_price': '2494.8808', 'units_traded': '748808.37534719', 'volume_1day': '748808.37534719', 'volume_7day': '3120235.07498459', 'buy_price': '2478', 'sell_price': '2484', '24H_fluctate': '-89', '24H_fluctate_rate': '-3.46'}, 'BTG': {'opening_price': '14850', 'closing_price': '14420', 'min_price': '12970', 'max_price': '15040', 'average_price': '14479.2475', 'units_traded': '23072538.17443701', 'volume_1day': '23072538.17443701', 'volume_7day': '99818762.59154794', 'buy_price': '14400', 'sell_price': '14520', '24H_fluctate': '-430', '24H_fluctate_rate': '-2.89'}, 'EOS': {'opening_price': '3133', 'closing_price': '2989', 'min_price': '2930', 'max_price': '3166', 'average_price': '3045.7087', 'units_traded': '2396019.04843502', 'volume_1day': '2396019.04843502', 'volume_7day': '22709185.28753151', 'buy_price': '2989', 'sell_price': '2991', '24H_fluctate': '-144', '24H_fluctate_rate': '-4.59'}, 'ICX': {'opening_price': '287', 'closing_price': '291', 'min_price': '281', 'max_price': '318', 'average_price': '294.887', 'units_traded': '2148077.59906089', 'volume_1day': '2148077.59906089', 'volume_7day': '5021510.732627308297395376', 'buy_price': '287', 'sell_price': '291', '24H_fluctate': '4', '24H_fluctate_rate': '1.39'}, 'VET': {'opening_price': '7.28', 'closing_price': '7.06', 'min_price': '7.06', 'max_price': '7.35', 'average_price': '7.193', 'units_traded': '8069066.75728701', 'volume_1day': '8069066.75728701', 'volume_7day': '72433394.02486151956123794', 'buy_price': '7.06', 'sell_price': '7.13', '24H_fluctate': '-0.22', '24H_fluctate_rate': '-3.02'}, 'TRX': {'opening_price': '22.1', 'closing_price': '22.3', 'min_price': '21.8', 'max_price': '23.2', 'average_price': '22.434', 'units_traded': '222226858.67510231', 'volume_1day': '222226858.67510231', 'volume_7day': '934839142.87073275', 'buy_price': '22.3', 'sell_price': '22.4', '24H_fluctate': '0.2', '24H_fluctate_rate': '0.90'}, 'ELF': {'opening_price': '129', 'closing_price': '134', 'min_price': '125', 'max_price': '139', 'average_price': '132.2449', 'units_traded': '5145835.25805202', 'volume_1day': '5145835.25805202', 'volume_7day': '18482823.862288335405889591', 'buy_price': '134', 'sell_price': '135', '24H_fluctate': '5', '24H_fluctate_rate': '3.87'}, 'MITH': {'opening_price': '71.2', 'closing_price': '69', 'min_price': '68.3', 'max_price': '71.4', 'average_price': '69.8385', 'units_traded': '9135463.34010668', 'volume_1day': '9135463.34010668', 'volume_7day': '106640941.39980550599621313', 'buy_price': '68.8', 'sell_price': '69.1', '24H_fluctate': '-2.2', '24H_fluctate_rate': '-3.08'}, 'MCO': {'opening_price': '2585', 'closing_price': '2590', 'min_price': '2533', 'max_price': '2639', 'average_price': '2584.0846', 'units_traded': '804514.72950361', 'volume_1day': '804514.72950361', 'volume_7day': '1917859.38617829', 'buy_price': '2582', 'sell_price': '2590', '24H_fluctate': '5', '24H_fluctate_rate': '0.19'}, 'OMG': {'opening_price': '1690', 'closing_price': '1654', 'min_price': '1612', 'max_price': '1691', 'average_price': '1646.1153', 'units_traded': '1245745.34794469', 'volume_1day': '1245745.34794469', 'volume_7day': '10926171.768021818906013623', 'buy_price': '1634', 'sell_price': '1655', '24H_fluctate': '-36', '24H_fluctate_rate': '-2.13'}, 'KNC': {'opening_price': '184', 'closing_price': '177', 'min_price': '173', 'max_price': '185', 'average_price': '179.529', 'units_traded': '811399.93955387', 'volume_1day': '811399.93955387', 'volume_7day': '7210520.168590646089975132', 'buy_price': '176', 'sell_price': '177', '24H_fluctate': '-7', '24H_fluctate_rate': '-3.80'}, 'GNT': {'opening_price': '77.6', 'closing_price': '76', 'min_price': '75.3', 'max_price': '78.5', 'average_price': '76.5059', 'units_traded': '1059320.73349068', 'volume_1day': '1059320.73349068', 'volume_7day': '37331129.307445753986240579', 'buy_price': '75.6', 'sell_price': '76.2', '24H_fluctate': '-1.6', '24H_fluctate_rate': '-2.06'}, 'ZIL': {'opening_price': '22.5', 'closing_price': '22.3', 'min_price': '22', 'max_price': '22.7', 'average_price': '22.3693', 'units_traded': '19157729.96458188', 'volume_1day': '19157729.96458188', 'volume_7day': '456983998.809213354635', 'buy_price': '22.2', 'sell_price': '22.3', '24H_fluctate': '-0.2', '24H_fluctate_rate': '-0.88'}, 'ETHOS': {'opening_price': '1113', 'closing_price': '1095', 'min_price': '1050', 'max_price': '1177', 'average_price': '1107.7564', 'units_traded': '255439.82987046', 'volume_1day': '255439.82987046', 'volume_7day': '6297063.40976809', 'buy_price': '1094', 'sell_price': '1095', '24H_fluctate': '-18', '24H_fluctate_rate': '-1.61'}, 'PAY': {'opening_price': '1802', 'closing_price': '1740', 'min_price': '1730', 'max_price': '1845', 'average_price': '1787.2038', 'units_traded': '191768.14170496', 'volume_1day': '191768.14170496', 'volume_7day': '8366627.260588602801787014', 'buy_price': '1740', 'sell_price': '1741', '24H_fluctate': '-62', '24H_fluctate_rate': '-3.44'}, 'WAX': {'opening_price': '107', 'closing_price': '105', 'min_price': '104', 'max_price': '108', 'average_price': '105.6142', 'units_traded': '853831.72129347', 'volume_1day': '853831.72129347', 'volume_7day': '17517731.67024218', 'buy_price': '104', 'sell_price': '105', '24H_fluctate': '-2', '24H_fluctate_rate': '-1.86'}, 'POWR': {'opening_price': '541', 'closing_price': '523', 'min_price': '512', 'max_price': '545', 'average_price': '528.8419', 'units_traded': '426062.69365944', 'volume_1day': '426062.69365944', 'volume_7day': '6124552.71916919', 'buy_price': '516', 'sell_price': '524', '24H_fluctate': '-18', '24H_fluctate_rate': '-3.32'}, 'LRC': {'opening_price': '589', 'closing_price': '560', 'min_price': '560', 'max_price': '595', 'average_price': '576.465', 'units_traded': '141985.74528059', 'volume_1day': '141985.74528059', 'volume_7day': '2925430.287171617643527395', 'buy_price': '560', 'sell_price': '561', '24H_fluctate': '-29', '24H_fluctate_rate': '-4.92'}, 'GTO': {'opening_price': '73.1', 'closing_price': '72', 'min_price': '71.2', 'max_price': '78.1', 'average_price': '74.0844', 'units_traded': '2273063.76542207', 'volume_1day': '2273063.76542207', 'volume_7day': '24859136.65975879', 'buy_price': '72', 'sell_price': '72.9', '24H_fluctate': '-1.1', '24H_fluctate_rate': '-1.50'}, 'STEEM': {'opening_price': '1841', 'closing_price': '1838', 'min_price': '1784', 'max_price': '1875', 'average_price': '1825.3732', 'units_traded': '75136.2390933', 'volume_1day': '75136.2390933', 'volume_7day': '1363204.4297473', 'buy_price': '1806', 'sell_price': '1838', '24H_fluctate': '-3', '24H_fluctate_rate': '-0.16'}, 'STRAT': {'opening_price': '2855', 'closing_price': '2884', 'min_price': '2751', 'max_price': '2919', 'average_price': '2842.8398', 'units_traded': '24096.53779972', 'volume_1day': '24096.53779972', 'volume_7day': '486369.3177285', 'buy_price': '2822', 'sell_price': '2868', '24H_fluctate': '29', '24H_fluctate_rate': '1.01'}, 'ZRX': {'opening_price': '360', 'closing_price': '359', 'min_price': '356', 'max_price': '370', 'average_price': '363.786', 'units_traded': '1010211.90495099', 'volume_1day': '1010211.90495099', 'volume_7day': '5916196.922581677377380573', 'buy_price': '358', 'sell_price': '361', '24H_fluctate': '-1', '24H_fluctate_rate': '-0.27'}, 'REP': {'opening_price': '98000', 'closing_price': '95400', 'min_price': '94800', 'max_price': '99300', 'average_price': '96878.9552', 'units_traded': '3576.03435605', 'volume_1day': '3576.03435605', 'volume_7day': '94083.508281661535728315', 'buy_price': '95400', 'sell_price': '96150', '24H_fluctate': '-2600', '24H_fluctate_rate': '-2.65'}, 'AE': {'opening_price': '1642', 'closing_price': '1603', 'min_price': '1600', 'max_price': '1678', 'average_price': '1632.5837', 'units_traded': '68038.90935548', 'volume_1day': '68038.90935548', 'volume_7day': '1897917.775737726162182133', 'buy_price': '1603', 'sell_price': '1621', '24H_fluctate': '-39', '24H_fluctate_rate': '-2.37'}, 'XEM': {'opening_price': '73.3', 'closing_price': '72.3', 'min_price': '72', 'max_price': '75.4', 'average_price': '73.2282', 'units_traded': '2051863.71815356', 'volume_1day': '2051863.71815356', 'volume_7day': '21621786.25553651', 'buy_price': '72.3', 'sell_price': '72.6', '24H_fluctate': '-1', '24H_fluctate_rate': '-1.36'}, 'SNT': {'opening_price': '116', 'closing_price': '116', 'min_price': '112', 'max_price': '120', 'average_price': '116.4868', 'units_traded': '1695262.71923482', 'volume_1day': '1695262.71923482', 'volume_7day': '23968638.404160067213343892', 'buy_price': '115', 'sell_price': '116', '24H_fluctate': '0', '24H_fluctate_rate': '0.00'}, 'ADA': {'opening_price': '77.9', 'closing_price': '75.5', 'min_price': '75.1', 'max_price': '79.3', 'average_price': '77.1779', 'units_traded': '2078953.54196183', 'volume_1day': '2078953.54196183', 'volume_7day': '39743824.63685277', 'buy_price': '75.5', 'sell_price': '76.3', '24H_fluctate': '-2.4', '24H_fluctate_rate': '-3.08'}, 'PPT': {'opening_price': '1671', 'closing_price': '1670', 'min_price': '1621', 'max_price': '1691', 'average_price': '1662.8857', 'units_traded': '37172.1802', 'volume_1day': '37172.1802', 'volume_7day': '689672.87576665', 'buy_price': '1651', 'sell_price': '1669', '24H_fluctate': '-1', '24H_fluctate_rate': '-0.05'}, 'CTXC': {'opening_price': '120', 'closing_price': '117', 'min_price': '113', 'max_price': '124', 'average_price': '118.0494', 'units_traded': '1320559.23731294', 'volume_1day': '1320559.23731294', 'volume_7day': '11470176.075621014673753123', 'buy_price': '115', 'sell_price': '117', '24H_fluctate': '-3', '24H_fluctate_rate': '-2.50'}, 'CMT': {'opening_price': '35.8', 'closing_price': '34.6', 'min_price': '32.4', 'max_price': '36.2', 'average_price': '34.556', 'units_traded': '4582169.50945042', 'volume_1day': '4582169.50945042', 'volume_7day': '36246203.738995702860476475', 'buy_price': '34', 'sell_price': '34.4', '24H_fluctate': '-1.2', '24H_fluctate_rate': '-3.35'}, 'THETA': {'opening_price': '57.5', 'closing_price': '56', 'min_price': '55.4', 'max_price': '62.8', 'average_price': '57.9934', 'units_traded': '18252834.3472032', 'volume_1day': '18252834.3472032', 'volume_7day': '91931853.277988079266342968', 'buy_price': '56', 'sell_price': '56.4', '24H_fluctate': '-1.5', '24H_fluctate_rate': '-2.60'}, 'WTC': {'opening_price': '1268', 'closing_price': '1273', 'min_price': '1253', 'max_price': '1328', 'average_price': '1285.9361', 'units_traded': '226967.89657532', 'volume_1day': '226967.89657532', 'volume_7day': '2367938.752517056649794688', 'buy_price': '1268', 'sell_price': '1273', '24H_fluctate': '5', '24H_fluctate_rate': '0.39'}, 'ITC': {'opening_price': '140', 'closing_price': '136', 'min_price': '133', 'max_price': '141', 'average_price': '136.7054', 'units_traded': '1489509.17759136', 'volume_1day': '1489509.17759136', 'volume_7day': '17514151.853270639705758781', 'buy_price': '135', 'sell_price': '136', '24H_fluctate': '-4', '24H_fluctate_rate': '-2.85'}, 'TRUE': {'opening_price': '291', 'closing_price': '311', 'min_price': '287', 'max_price': '337', 'average_price': '306.8352', 'units_traded': '2356179.97383346', 'volume_1day': '2356179.97383346', 'volume_7day': '8791779.888040234515508228', 'buy_price': '310', 'sell_price': '311', '24H_fluctate': '20', '24H_fluctate_rate': '6.87'}, 'ABT': {'opening_price': '102', 'closing_price': '95.8', 'min_price': '94.1', 'max_price': '115', 'average_price': '103.2415', 'units_traded': '11560792.52291732', 'volume_1day': '11560792.52291732', 'volume_7day': '50518228.348695697921657788', 'buy_price': '95.4', 'sell_price': '95.8', '24H_fluctate': '-6.2', '24H_fluctate_rate': '-6.07'}, 'RNT': {'opening_price': '141', 'closing_price': '140', 'min_price': '116', 'max_price': '183', 'average_price': '145.595', 'units_traded': '83125021.96797222', 'volume_1day': '83125021.96797222', 'volume_7day': '186601931.257915597667727845', 'buy_price': '140', 'sell_price': '141', '24H_fluctate': '-1', '24H_fluctate_rate': '-0.70'}, 'PLY': {'opening_price': '38.7', 'closing_price': '37.4', 'min_price': '36.4', 'max_price': '40', 'average_price': '38.162', 'units_traded': '10202348.4525848', 'volume_1day': '10202348.4525848', 'volume_7day': '109028021.265338524', 'buy_price': '37.1', 'sell_price': '37.4', '24H_fluctate': '-1.3', '24H_fluctate_rate': '-3.35'}, 'WAVES': {'opening_price': '3456', 'closing_price': '3459', 'min_price': '3419', 'max_price': '3550', 'average_price': '3483.9723', 'units_traded': '172784.85691167', 'volume_1day': '172784.85691167', 'volume_7day': '2676139.03950588', 'buy_price': '3441', 'sell_price': '3477', '24H_fluctate': '3', '24H_fluctate_rate': '0.08'}, 'LINK': {'opening_price': '364', 'closing_price': '416', 'min_price': '362', 'max_price': '446', 'average_price': '403.6084', 'units_traded': '12406250.26695239', 'volume_1day': '12406250.26695239', 'volume_7day': '16693362.550525832613136453', 'buy_price': '416', 'sell_price': '418', '24H_fluctate': '52', '24H_fluctate_rate': '14.28'}, 'ENJ': {'opening_price': '44.8', 'closing_price': '43.1', 'min_price': '42.6', 'max_price': '45.7', 'average_price': '44.0126', 'units_traded': '3420804.38349568', 'volume_1day': '3420804.38349568', 'volume_7day': '22984483.064958192816118614', 'buy_price': '43.1', 'sell_price': '43.3', '24H_fluctate': '-1.7', '24H_fluctate_rate': '-3.79'}, 'PST': {'opening_price': '114', 'closing_price': '109', 'min_price': '107', 'max_price': '117', 'average_price': '111.5105', 'units_traded': '809377.14936885', 'volume_1day': '809377.14936885', 'volume_7day': '9450797.360011780616582618', 'buy_price': '109', 'sell_price': '110', '24H_fluctate': '-5', '24H_fluctate_rate': '-4.38'}, 'SALT': {'opening_price': '279', 'closing_price': '264', 'min_price': '262', 'max_price': '289', 'average_price': '273.6632', 'units_traded': '1441919.84941115', 'volume_1day': '1441919.84941115', 'volume_7day': '12808848.92732145', 'buy_price': '264', 'sell_price': '266', '24H_fluctate': '-15', '24H_fluctate_rate': '-5.37'}, 'RDN': {'opening_price': '336', 'closing_price': '299', 'min_price': '279', 'max_price': '345', 'average_price': '311.6726', 'units_traded': '7269030.90369332', 'volume_1day': '7269030.90369332', 'volume_7day': '25543637.518105808601343468', 'buy_price': '299', 'sell_price': '300', '24H_fluctate': '-37', '24H_fluctate_rate': '-11.01'}, 'LOOM': {'opening_price': '56', 'closing_price': '54.3', 'min_price': '53.1', 'max_price': '63.8', 'average_price': '57.6762', 'units_traded': '23621311.35286854', 'volume_1day': '23621311.35286854', 'volume_7day': '46943981.244299057015732253', 'buy_price': '54.3', 'sell_price': '54.8', '24H_fluctate': '-1.7', '24H_fluctate_rate': '-3.03'}, 'BHPC': {'opening_price': '908', 'closing_price': '894', 'min_price': '890', 'max_price': '927', 'average_price': '909.6184', 'units_traded': '488667.59905765', 'volume_1day': '488667.59905765', 'volume_7day': '8377330.001161527652769304', 'buy_price': '894', 'sell_price': '898', '24H_fluctate': '-14', '24H_fluctate_rate': '-1.54'}, 'PIVX': {'opening_price': '972', 'closing_price': '916', 'min_price': '914', 'max_price': '972', 'average_price': '939.3235', 'units_traded': '153394.57590544', 'volume_1day': '153394.57590544', 'volume_7day': '10439928.69344645', 'buy_price': '916', 'sell_price': '926', '24H_fluctate': '-56', '24H_fluctate_rate': '-5.76'}, 'INS': {'opening_price': '328', 'closing_price': '353', 'min_price': '316', 'max_price': '366', 'average_price': '339.5291', 'units_traded': '4317639.0914279', 'volume_1day': '4317639.0914279', 'volume_7day': '11869243.4989243662', 'buy_price': '350', 'sell_price': '352', '24H_fluctate': '25', '24H_fluctate_rate': '7.62'}, 'BCD': {'opening_price': '1032', 'closing_price': '1003', 'min_price': '997', 'max_price': '1040', 'average_price': '1016', 'units_traded': '119331.58365646', 'volume_1day': '119331.58365646', 'volume_7day': '1810103.60620526', 'buy_price': '1001', 'sell_price': '1005', '24H_fluctate': '-29', '24H_fluctate_rate': '-2.81'}, 'BZNT': {'opening_price': '28.2', 'closing_price': '27.4', 'min_price': '27', 'max_price': '29.3', 'average_price': '27.9308', 'units_traded': '35160746.50211007', 'volume_1day': '35160746.50211007', 'volume_7day': '191678148.402933452831885565', 'buy_price': '27.5', 'sell_price': '28', '24H_fluctate': '-0.8', '24H_fluctate_rate': '-2.83'}, 'XLM': {'opening_price': '130', 'closing_price': '126', 'min_price': '126', 'max_price': '131', 'average_price': '128.1468', 'units_traded': '4800543.55292867', 'volume_1day': '4800543.55292867', 'volume_7day': '47690901.83275804', 'buy_price': '126', 'sell_price': '127', '24H_fluctate': '-4', '24H_fluctate_rate': '-3.07'}, 'OCN': {'opening_price': '3.99', 'closing_price': '3.77', 'min_price': '3.67', 'max_price': '4.03', 'average_price': '3.8443', 'units_traded': '56344688.28628849', 'volume_1day': '56344688.28628849', 'volume_7day': '1601573929.355513560050201454', 'buy_price': '3.77', 'sell_price': '3.78', '24H_fluctate': '-0.22', '24H_fluctate_rate': '-5.51'}, 'BSV': {'opening_price': '103800', 'closing_price': '99200', 'min_price': '97400', 'max_price': '104100', 'average_price': '100413.4696', 'units_traded': '23079.65992066', 'volume_1day': '23079.65992066', 'volume_7day': '269320.66246854', 'buy_price': '98850', 'sell_price': '99200', '24H_fluctate': '-4600', '24H_fluctate_rate': '-4.43'}, 'TMTG': {'opening_price': '8.36', 'closing_price': '8.06', 'min_price': '8.03', 'max_price': '8.41', 'average_price': '8.2455', 'units_traded': '207613156.77748141', 'volume_1day': '207613156.77748141', 'volume_7day': '1483684407.505064787452122042', 'buy_price': '8.04', 'sell_price': '8.09', '24H_fluctate': '-0.3', '24H_fluctate_rate': '-3.58'}, 'BAT': {'opening_price': '149', 'closing_price': '146', 'min_price': '144', 'max_price': '154', 'average_price': '147.0619', 'units_traded': '1526186.29009052', 'volume_1day': '1526186.29009052', 'volume_7day': '7018751.570910630100902915', 'buy_price': '146', 'sell_price': '147', '24H_fluctate': '-3', '24H_fluctate_rate': '-2.01'}, 'WET': {'opening_price': '14', 'closing_price': '13.9', 'min_price': '13.9', 'max_price': '14.4', 'average_price': '14.0785', 'units_traded': '18472664.23648711', 'volume_1day': '18472664.23648711', 'volume_7day': '194603270.091909116950969508', 'buy_price': '13.9', 'sell_price': '14', '24H_fluctate': '-0.1', '24H_fluctate_rate': '-0.71'}, 'XVG': {'opening_price': '7.97', 'closing_price': '7.86', 'min_price': '7.72', 'max_price': '8.04', 'average_price': '7.8694', 'units_traded': '5885501.15702363', 'volume_1day': '5885501.15702363', 'volume_7day': '51375893.93034364', 'buy_price': '7.75', 'sell_price': '7.85', '24H_fluctate': '-0.11', '24H_fluctate_rate': '-1.38'}, 'IOST': {'opening_price': '6.47', 'closing_price': '6.36', 'min_price': '6.16', 'max_price': '6.52', 'average_price': '6.3296', 'units_traded': '422021423.03384684', 'volume_1day': '422021423.03384684', 'volume_7day': '1445256292.695034314024641302', 'buy_price': '6.35', 'sell_price': '6.39', '24H_fluctate': '-0.11', '24H_fluctate_rate': '-1.70'}, 'POLY': {'opening_price': '160', 'closing_price': '155', 'min_price': '155', 'max_price': '162', 'average_price': '157.3923', 'units_traded': '1220499.84989114', 'volume_1day': '1220499.84989114', 'volume_7day': '9948804.158797255355654461', 'buy_price': '155', 'sell_price': '156', '24H_fluctate': '-5', '24H_fluctate_rate': '-3.12'}, 'HC': {'opening_price': '1440', 'closing_price': '1433', 'min_price': '1380', 'max_price': '1512', 'average_price': '1444.7', 'units_traded': '81008.03733315', 'volume_1day': '81008.03733315', 'volume_7day': '886944.28807459', 'buy_price': '1414', 'sell_price': '1433', '24H_fluctate': '-7', '24H_fluctate_rate': '-0.48'}, 'MEETONE': [], 'ADD': [], 'HORUS': [], 'CHL': [], 'EOSDAC': [], 'BLACK': [], 'ROM': {'opening_price': '0.13', 'closing_price': '0.13', 'min_price': '0.12', 'max_price': '0.13', 'average_price': '0.1264', 'units_traded': '42617308477.88433077', 'volume_1day': '42617308477.88433077', 'volume_7day': '217152860621.220243198764699686', 'buy_price': '0.12', 'sell_price': '0.13', '24H_fluctate': '0', '24H_fluctate_rate': '0.00'}, 'AMO': {'opening_price': '1.76', 'closing_price': '1.57', 'min_price': '1.56', 'max_price': '1.78', 'average_price': '1.6959', 'units_traded': '708556220.21516068', 'volume_1day': '708556220.21516068', 'volume_7day': '24112468138.230291963542864948', 'buy_price': '1.57', 'sell_price': '1.58', '24H_fluctate': '-0.19', '24H_fluctate_rate': '-10.79'}, 'date': '1546568632430'}\n"
     ]
    }
   ],
   "source": [
    "currency = requests.get('https://api.bithumb.com/public/ticker/all').json()['data']\n",
    "print(currency)"
   ]
  },
  {
   "cell_type": "code",
   "execution_count": 12,
   "metadata": {},
   "outputs": [
    {
     "name": "stdout",
     "output_type": "stream",
     "text": [
      "BTC 상승장\n",
      "ETH 상승장\n",
      "DASH 상승장\n",
      "LTC 상승장\n",
      "ETC 상승장\n",
      "XRP 상승장\n",
      "BCH 상승장\n",
      "XMR 상승장\n",
      "ZEC 상승장\n",
      "QTUM 상승장\n",
      "BTG 상승장\n",
      "EOS 상승장\n",
      "ICX 상승장\n",
      "VET 상승장\n",
      "TRX 상승장\n",
      "ELF 상승장\n",
      "MITH 상승장\n",
      "MCO 상승장\n",
      "OMG 상승장\n",
      "KNC 상승장\n",
      "GNT 상승장\n",
      "ZIL 상승장\n",
      "ETHOS 상승장\n",
      "PAY 상승장\n",
      "WAX 상승장\n",
      "POWR 상승장\n",
      "LRC 상승장\n",
      "GTO 상승장\n",
      "STEEM 상승장\n",
      "STRAT 상승장\n",
      "ZRX 상승장\n",
      "REP 상승장\n",
      "AE 상승장\n",
      "XEM 상승장\n",
      "SNT 상승장\n",
      "ADA 상승장\n",
      "PPT 상승장\n",
      "CTXC 상승장\n",
      "CMT 상승장\n",
      "THETA 상승장\n",
      "WTC 상승장\n",
      "ITC 상승장\n",
      "TRUE 상승장\n",
      "ABT 상승장\n",
      "RNT 상승장\n",
      "PLY 상승장\n",
      "WAVES 상승장\n",
      "LINK 상승장\n",
      "ENJ 상승장\n",
      "PST 상승장\n",
      "SALT 상승장\n",
      "RDN 상승장\n",
      "LOOM 상승장\n",
      "BHPC 상승장\n",
      "PIVX 상승장\n",
      "INS 상승장\n",
      "BCD 상승장\n",
      "BZNT 상승장\n",
      "XLM 상승장\n",
      "OCN 상승장\n",
      "BSV 상승장\n",
      "TMTG 상승장\n",
      "BAT 상승장\n",
      "WET 상승장\n",
      "XVG 상승장\n",
      "IOST 상승장\n",
      "POLY 상승장\n",
      "HC 상승장\n"
     ]
    },
    {
     "ename": "TypeError",
     "evalue": "list indices must be integers or slices, not str",
     "output_type": "error",
     "traceback": [
      "\u001b[1;31m---------------------------------------------------------------------------\u001b[0m",
      "\u001b[1;31mTypeError\u001b[0m                                 Traceback (most recent call last)",
      "\u001b[1;32m<ipython-input-12-15fd88894bb0>\u001b[0m in \u001b[0;36m<module>\u001b[1;34m\u001b[0m\n\u001b[0;32m     16\u001b[0m \u001b[1;33m\u001b[0m\u001b[0m\n\u001b[0;32m     17\u001b[0m \u001b[1;31m#except TypeError:\u001b[0m\u001b[1;33m\u001b[0m\u001b[1;33m\u001b[0m\u001b[1;33m\u001b[0m\u001b[0m\n\u001b[1;32m---> 18\u001b[1;33m     \u001b[0mopening_price\u001b[0m \u001b[1;33m=\u001b[0m \u001b[0mfloat\u001b[0m\u001b[1;33m(\u001b[0m\u001b[0mvalue\u001b[0m\u001b[1;33m[\u001b[0m\u001b[1;34m'opening_price'\u001b[0m\u001b[1;33m]\u001b[0m\u001b[1;33m)\u001b[0m\u001b[1;33m\u001b[0m\u001b[1;33m\u001b[0m\u001b[0m\n\u001b[0m\u001b[0;32m     19\u001b[0m     \u001b[0mmax_price\u001b[0m \u001b[1;33m=\u001b[0m \u001b[0mfloat\u001b[0m\u001b[1;33m(\u001b[0m\u001b[0mvalue\u001b[0m\u001b[1;33m[\u001b[0m\u001b[1;34m'max_price'\u001b[0m\u001b[1;33m]\u001b[0m\u001b[1;33m)\u001b[0m\u001b[1;33m\u001b[0m\u001b[1;33m\u001b[0m\u001b[0m\n\u001b[0;32m     20\u001b[0m     \u001b[0mmin_price\u001b[0m \u001b[1;33m=\u001b[0m \u001b[0mfloat\u001b[0m\u001b[1;33m(\u001b[0m\u001b[0mvalue\u001b[0m\u001b[1;33m[\u001b[0m\u001b[1;34m'min_price'\u001b[0m\u001b[1;33m]\u001b[0m\u001b[1;33m)\u001b[0m\u001b[1;33m\u001b[0m\u001b[1;33m\u001b[0m\u001b[0m\n",
      "\u001b[1;31mTypeError\u001b[0m: list indices must be integers or slices, not str"
     ]
    }
   ],
   "source": [
    "# 아래에 코드를 작성하세요.\n",
    "\n",
    "for key, value in currency.items():\n",
    "    #key == 'BTC',value == {...}\n",
    "      #만약에 fort key in currency.keys():\n",
    "        #key = 'BTC' \n",
    "        #value == currency[key]를 따로 선언해줘야한다. \n",
    "#방법1\n",
    "#if 'max_price' in value:\n",
    "#방법2\n",
    "#if type(value) == type({}):\n",
    "#방법2-a\n",
    "#if isinstance(value,dict):\n",
    "#방법3\n",
    "#try:\n",
    "    \n",
    "#except TypeError:\n",
    "    opening_price = float(value['opening_price']) #vaule가 {}기때문에 key값을 넣었을 때 {}안의 value가 나옴\n",
    "    max_price = float(value['max_price'])\n",
    "    min_price = float(value['min_price'])\n",
    "\n",
    "    if opening_price + (max_price - min_price) > max_price:\n",
    "        print(f'{key} 상승장')\n",
    "    else:\n",
    "        print(f'{key} 하락장')"
   ]
  }
 ],
 "metadata": {
  "kernelspec": {
   "display_name": "Python 3",
   "language": "python",
   "name": "python3"
  },
  "language_info": {
   "codemirror_mode": {
    "name": "ipython",
    "version": 3
   },
   "file_extension": ".py",
   "mimetype": "text/x-python",
   "name": "python",
   "nbconvert_exporter": "python",
   "pygments_lexer": "ipython3",
   "version": "3.7.1"
  },
  "toc": {
   "base_numbering": 1,
   "nav_menu": {},
   "number_sections": true,
   "sideBar": true,
   "skip_h1_title": false,
   "title_cell": "Table of Contents",
   "title_sidebar": "Contents",
   "toc_cell": false,
   "toc_position": {},
   "toc_section_display": true,
   "toc_window_display": false
  }
 },
 "nbformat": 4,
 "nbformat_minor": 2
}
