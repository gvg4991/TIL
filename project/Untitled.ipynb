{
 "cells": [
  {
   "cell_type": "code",
   "execution_count": 2,
   "metadata": {},
   "outputs": [
    {
     "name": "stdout",
     "output_type": "stream",
     "text": [
      "yo\n"
     ]
    }
   ],
   "source": [
    "print('yo')"
   ]
  },
  {
   "cell_type": "code",
   "execution_count": 3,
   "metadata": {},
   "outputs": [],
   "source": [
    "import requests"
   ]
  },
  {
   "cell_type": "code",
   "execution_count": 25,
   "metadata": {},
   "outputs": [
    {
     "name": "stdout",
     "output_type": "stream",
     "text": [
      "['페이트/스테이 나이트 [헤븐즈 필] 제2장 로스트 버터플라이', '엽문 4', '도라에몽: 진구의 달 탐사기', '드래곤 길들이기 3', '안토로기 라사', '스파이더맨: 뉴 유니버스', '덤보', '가디언즈 오브 갤럭시', '롱 샷', 'Night Hunter', '보헤미안 랩소디', '안녕 베일리', '어벤져스', '해리 포터와 마법사의 돌', '인크레더블 2', '꽃새장 여인 : 네코짱', '존 윅: 리로드', '어벤져스: 에이지 오브 울트론', '원더랜드', '토르: 라그나로크']\n"
     ]
    }
   ],
   "source": [
    "req = requests.get('https://api.themoviedb.org/3/movie/popular?api_key=6e8f4bef2e9994dc29c97677ed06ba8d&language=ko-KR&page=3')\n",
    "l = []\n",
    "a = req.json()['results']\n",
    "for ai in a:\n",
    "    l.append(ai['title'])\n",
    "print(l)"
   ]
  }
 ],
 "metadata": {
  "kernelspec": {
   "display_name": "Python 3",
   "language": "python",
   "name": "python3"
  },
  "language_info": {
   "codemirror_mode": {
    "name": "ipython",
    "version": 3
   },
   "file_extension": ".py",
   "mimetype": "text/x-python",
   "name": "python",
   "nbconvert_exporter": "python",
   "pygments_lexer": "ipython3",
   "version": "3.7.2"
  }
 },
 "nbformat": 4,
 "nbformat_minor": 2
}
